{
  "nbformat": 4,
  "nbformat_minor": 0,
  "metadata": {
    "colab": {
      "provenance": [],
      "include_colab_link": true
    },
    "kernelspec": {
      "name": "python3",
      "display_name": "Python 3"
    },
    "language_info": {
      "name": "python"
    }
  },
  "cells": [
    {
      "cell_type": "markdown",
      "metadata": {
        "id": "view-in-github",
        "colab_type": "text"
      },
      "source": [
        "<a href=\"https://colab.research.google.com/github/amyynguyen/MATH5750_Math-of-Data-Science/blob/main/project1.ipynb\" target=\"_parent\"><img src=\"https://colab.research.google.com/assets/colab-badge.svg\" alt=\"Open In Colab\"/></a>"
      ]
    },
    {
      "cell_type": "markdown",
      "source": [
        "Math 5750/6880: Mathematics of Data Science \\\\\n",
        "Project 1"
      ],
      "metadata": {
        "id": "9fm9P3VE85Y3"
      }
    },
    {
      "cell_type": "markdown",
      "source": [
        "# 3. Python and Google Colab\n",
        "Project Euler Problem  \n",
        "https://projecteuler.net/"
      ],
      "metadata": {
        "id": "voDhElnJXDro"
      }
    },
    {
      "cell_type": "code",
      "source": [
        "# your code here\n",
        "# Problem 6: Sum Square Difference\n",
        "n = 100\n",
        "sum_of_squares = 0\n",
        "sum_numbers = 0\n",
        "\n",
        "for i in range(1, n+1):\n",
        "  # Adding square of i\n",
        "  sum_of_squares += i**2\n",
        "\n",
        "  #Adding i\n",
        "  sum_numbers += i\n",
        "\n",
        "square_of_sum = sum_numbers**2\n",
        "difference = square_of_sum - sum_of_squares\n",
        "\n",
        "print(\"Difference = \", difference)"
      ],
      "metadata": {
        "id": "y_e6lM_NEwwD",
        "colab": {
          "base_uri": "https://localhost:8080/"
        },
        "outputId": "12339fad-365b-488e-e110-a57dbeef8353"
      },
      "execution_count": null,
      "outputs": [
        {
          "output_type": "stream",
          "name": "stdout",
          "text": [
            "Difference =  25164150\n"
          ]
        }
      ]
    },
    {
      "cell_type": "markdown",
      "source": [
        "# 4. Regression Analysis\n",
        "California housing data  \n",
        "https://scikit-learn.org/stable/datasets/real_world.html#california-housing-dataset\n"
      ],
      "metadata": {
        "id": "riLtqhJEXNOQ"
      }
    },
    {
      "cell_type": "code",
      "source": [
        "import numpy as np\n",
        "import matplotlib.pyplot as plt\n",
        "import pandas as pd\n",
        "from sklearn.datasets import fetch_california_housing\n",
        "from sklearn.model_selection import train_test_split\n",
        "\n"
      ],
      "metadata": {
        "id": "5gtRmgu1kL6x"
      },
      "execution_count": null,
      "outputs": []
    },
    {
      "cell_type": "code",
      "source": [
        "# Load the California housing data\n",
        "cal = fetch_california_housing(as_frame=True)\n",
        "X, y = cal.data, cal.target\n",
        "feature_names = X.columns\n",
        "print(feature_names)\n",
        "\n",
        "# Train/test split\n",
        "X_train, X_test, y_train, y_test = train_test_split(X, y, test_size=0.20, random_state=0)"
      ],
      "metadata": {
        "id": "YdjNvnAGkRpe",
        "colab": {
          "base_uri": "https://localhost:8080/"
        },
        "outputId": "1c44aaf9-c73c-4f0d-d213-eeb629b2c01c"
      },
      "execution_count": null,
      "outputs": [
        {
          "output_type": "stream",
          "name": "stdout",
          "text": [
            "Index(['MedInc', 'HouseAge', 'AveRooms', 'AveBedrms', 'Population', 'AveOccup',\n",
            "       'Latitude', 'Longitude'],\n",
            "      dtype='object')\n"
          ]
        }
      ]
    },
    {
      "cell_type": "code",
      "source": [
        "# your code here\n",
        "from sklearn.linear_model import LinearRegression\n",
        "from sklearn.metrics import mean_absolute_error, mean_squared_error, r2_score\n",
        "from sklearn.ensemble import RandomForestRegressor\n",
        "\n",
        "# Calculating the median house value of the dataset\n",
        "median_house_value = np.median(y)\n",
        "print(\"Median house value: \", median_house_value)\n",
        "\n",
        "# Fit model\n",
        "linreg_fit = LinearRegression().fit(X_train, y_train)\n",
        "\n",
        "# Predictions\n",
        "y_test_pred = linreg_fit.predict(X_test)\n",
        "y_train_pred = linreg_fit.predict(X_train)\n",
        "\n",
        "# Metrics\n",
        "r2_test = r2_score(y_test, y_test_pred)\n",
        "print(\"Test r^2: \", r2)\n",
        "\n",
        "r2_train = r2_score(y_train, y_train_pred)\n",
        "print(\"Train r^2: \", r2_train)\n",
        "\n",
        "MAE = mean_absolute_error(y_test, y_pred)\n",
        "print(\"MAE: \", MAE)\n",
        "\n",
        "RMSE = mean_squared_error(y_test, y_test_pred)\n",
        "print(\"RMSE: \", MSE)\n",
        "\n",
        "# Coefficient of the linear regression model\n",
        "linreg_coef_df = pd.DataFrame({\n",
        "    'Feature': feature_names,\n",
        "    'Coefficient': linreg_fit.coef_\n",
        "    }).sort_values('Coefficient', ascending = False)\n",
        "print(\"Linear Regression Coefficient:\")\n",
        "print(linreg_coef_df)\n",
        "\n",
        "# Scatterplot: predicted vs true\n",
        "plt.scatter(y_test, y_test_pred)\n",
        "plt.plot([y_test.min(), y_test.max()], [y_test.min(), y_test.max()], 'r--')\n",
        "plt.xlabel(\"True Values\")\n",
        "plt.ylabel(\"Predicted Values\")\n",
        "plt.show()\n",
        "print( )\n",
        "\n",
        "# Histogram of errors\n",
        "errors = y_test - y_test_pred\n",
        "plt.hist(errors, bins=20, edgecolor = \"black\")\n",
        "plt.title(\"Histogram of Prediction Errors\")\n",
        "plt.xlabel(\"Error\")\n",
        "plt.ylabel(\"Count\")\n",
        "plt.show()\n",
        "print( )\n",
        "\n",
        "\n",
        "# --------\n",
        "# Different regression methods on this dataset\n",
        "# --------\n",
        "rf = RandomForestRegressor(n_estimators = 100, random_state = 0)\n",
        "rf_fit = rf.fit(X_train, y_train)\n",
        "y_test_pred_rf = rf_fit.predict(X_test)\n",
        "y_train_pred_rf = rf_fit.predict(X_train)\n",
        "\n",
        "r2_test_rf = r2_score(y_test, y_test_pred_rf)\n",
        "print(\"Random Forest Test r^2: \", r2_rf)\n",
        "\n",
        "r2_train_rf = r2_score(y_train, y_train_pred_rf)\n",
        "print(\"Random Forest Train r^2: \", r2_train_rf)\n",
        "\n",
        "MAE_rf = mean_absolute_error(y_test, y_test_pred_rf)\n",
        "print(\"Random Forest MAE: \", MAE_rf)\n",
        "\n",
        "RMSE_rf = np.sqrt(mean_squared_error(y_test, y_test_pred_rf))\n",
        "print(\"Random Forest RMSE: \", RMSE_rf)\n",
        "\n",
        "# Importance for Random Forest\n",
        "importance_df = pd.DataFrame({\n",
        "    'Feature': feature_names,\n",
        "    'Importance': rf_fit.feature_importances_\n",
        "    }).sort_values('Importance', ascending = False)\n",
        "print(\"Random Forest Feature Importance:\")\n",
        "print(importance_df)"
      ],
      "metadata": {
        "id": "PEYTEFsSXMk2",
        "colab": {
          "base_uri": "https://localhost:8080/",
          "height": 1000
        },
        "outputId": "a3ad6052-9367-41ab-d6d4-32a7c1aaae0c"
      },
      "execution_count": null,
      "outputs": [
        {
          "output_type": "stream",
          "name": "stdout",
          "text": [
            "Median house value:  1.797\n",
            "Test r^2:  0.5943232652466202\n",
            "Train r^2:  0.6088968118672871\n",
            "MAE:  0.535126133655451\n",
            "RMSE:  0.5289841670367209\n",
            "MedInc: 0.4333334066887783\n",
            "HouseAge: 0.009293243374170923\n",
            "AveRooms: -0.09864337387965161\n",
            "AveBedrms: 0.5932154870104376\n",
            "Population: -7.561925018398363e-06\n",
            "AveOccup: -0.004745163831785233\n",
            "Latitude: -0.4214493359493122\n",
            "Longitude: -0.43416604139119447\n",
            "\n"
          ]
        },
        {
          "output_type": "display_data",
          "data": {
            "text/plain": [
              "<Figure size 640x480 with 1 Axes>"
            ],
            "image/png": "[encoded data removed]"
          },
          "metadata": {}
        },
        {
          "output_type": "stream",
          "name": "stdout",
          "text": [
            "\n"
          ]
        },
        {
          "output_type": "display_data",
          "data": {
            "text/plain": [
              "<Figure size 640x480 with 1 Axes>"
            ],
            "image/png": "[encoded data removed]"
          },
          "metadata": {}
        },
        {
          "output_type": "stream",
          "name": "stdout",
          "text": [
            "\n",
            "Random Forest Test r^2:  0.7989135306875962\n",
            "Random Forest Train r^2:  0.9727350039407251\n",
            "Random Forest MAE:  0.33578886286337223\n",
            "Random Forest RMSE:  0.5131491345417962\n",
            "      Feature  Importance\n",
            "0      MedInc    0.529520\n",
            "5    AveOccup    0.135255\n",
            "6    Latitude    0.084846\n",
            "7   Longitude    0.083737\n",
            "1    HouseAge    0.055837\n",
            "2    AveRooms    0.047262\n",
            "4  Population    0.032957\n",
            "3   AveBedrms    0.030587\n"
          ]
        }
      ]
    },
    {
      "cell_type": "markdown",
      "source": [
        "# 5. Classification Analysis\n",
        "Diagnostic Wisconsin Breast Cancer Database  \n",
        "https://scikit-learn.org/stable/datasets/toy_dataset.html#breast-cancer-dataset"
      ],
      "metadata": {
        "id": "QkSVMB7HXSZB"
      }
    },
    {
      "cell_type": "code",
      "source": [
        "import numpy as np\n",
        "import pandas as pd\n",
        "import matplotlib.pyplot as plt\n",
        "from sklearn.datasets import load_breast_cancer\n",
        "from sklearn.model_selection import train_test_split\n",
        "from sklearn.preprocessing import StandardScaler"
      ],
      "metadata": {
        "id": "vUfQhEk7zQBX"
      },
      "execution_count": null,
      "outputs": []
    },
    {
      "cell_type": "code",
      "source": [
        "# Load Breast Cancer Wisconsin Dataset\n",
        "data = load_breast_cancer(as_frame=True)\n",
        "X = data.data\n",
        "y = data.target                  # 0 = malignant, 1 = benign\n",
        "feature_names = X.columns\n",
        "label_names = {0: \"malignant\", 1: \"benign\"}\n",
        "print(feature_names)\n",
        "\n",
        "# Train/Test Split (stratified to preserve class balance)\n",
        "X_train, X_test, y_train, y_test = train_test_split(X, y, test_size=0.20, random_state=0, stratify=y)\n",
        "\n",
        "# Preprocess Data (fit on train ONLY; then transform both)\n",
        "scaler = StandardScaler(with_mean=True, with_std=True)\n",
        "X_train_std = scaler.fit_transform(X_train)   # fit on train\n",
        "X_test_std  = scaler.transform(X_test)        # transform test with train stats"
      ],
      "metadata": {
        "colab": {
          "base_uri": "https://localhost:8080/"
        },
        "id": "IGeihULRzZxD",
        "outputId": "b7cff0d4-9149-4208-c92c-6fedb809d25b"
      },
      "execution_count": null,
      "outputs": [
        {
          "output_type": "stream",
          "name": "stdout",
          "text": [
            "Index(['mean radius', 'mean texture', 'mean perimeter', 'mean area',\n",
            "       'mean smoothness', 'mean compactness', 'mean concavity',\n",
            "       'mean concave points', 'mean symmetry', 'mean fractal dimension',\n",
            "       'radius error', 'texture error', 'perimeter error', 'area error',\n",
            "       'smoothness error', 'compactness error', 'concavity error',\n",
            "       'concave points error', 'symmetry error', 'fractal dimension error',\n",
            "       'worst radius', 'worst texture', 'worst perimeter', 'worst area',\n",
            "       'worst smoothness', 'worst compactness', 'worst concavity',\n",
            "       'worst concave points', 'worst symmetry', 'worst fractal dimension'],\n",
            "      dtype='object')\n"
          ]
        }
      ]
    },
    {
      "cell_type": "code",
      "source": [
        "# your code here\n",
        "import seaborn as sns\n",
        "from sklearn.svm import SVC\n",
        "from sklearn.metrics import (accuracy_score, confusion_matrix,\n",
        "                             roc_auc_score, average_precision_score,\n",
        "                             roc_curve, precision_recall_curve)\n",
        "\n",
        "data = load_breast_cancer(as_frame=True)\n",
        "X = data.data\n",
        "y = data.target\n",
        "\n",
        "# Train/test split\n",
        "X_train, X_test, y_train, y_test = train_test_split(X, y, test_size=0.2, random_state=0)"
      ],
      "metadata": {
        "id": "QUYeDq2ZXY2x"
      },
      "execution_count": null,
      "outputs": []
    }
  ]
}