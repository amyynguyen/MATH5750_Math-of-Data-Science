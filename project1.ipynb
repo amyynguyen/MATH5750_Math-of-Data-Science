{
  "nbformat": 4,
  "nbformat_minor": 0,
  "metadata": {
    "colab": {
      "provenance": [],
      "include_colab_link": true
    },
    "kernelspec": {
      "name": "python3",
      "display_name": "Python 3"
    },
    "language_info": {
      "name": "python"
    }
  },
  "cells": [
    {
      "cell_type": "markdown",
      "metadata": {
        "id": "view-in-github",
        "colab_type": "text"
      },
      "source": [
        "<a href=\"https://colab.research.google.com/github/amyynguyen/MATH5750_Math-of-Data-Science/blob/main/project1.ipynb\" target=\"_parent\"><img src=\"https://colab.research.google.com/assets/colab-badge.svg\" alt=\"Open In Colab\"/></a>"
      ]
    },
    {
      "cell_type": "markdown",
      "source": [
        "Math 5750/6880: Mathematics of Data Science \\\\\n",
        "Project 1"
      ],
      "metadata": {
        "id": "9fm9P3VE85Y3"
      }
    },
    {
      "cell_type": "markdown",
      "source": [
        "# 3. Python and Google Colab\n",
        "Project Euler Problem  \n",
        "https://projecteuler.net/"
      ],
      "metadata": {
        "id": "voDhElnJXDro"
      }
    },
    {
      "cell_type": "code",
      "source": [
        "# your code here\n",
        "# Problem 6: Sum Square Difference\n",
        "n = 100\n",
        "sum_of_squares = 0\n",
        "sum_numbers = 0\n",
        "\n",
        "for i in range(1, n+1):\n",
        "  # Adding square of i\n",
        "  sum_of_squares += i**2\n",
        "\n",
        "  #Adding i\n",
        "  sum_numbers += i\n",
        "\n",
        "square_of_sum = sum_numbers**2\n",
        "difference = square_of_sum - sum_of_squares\n",
        "\n",
        "print(\"Difference = \", difference)"
      ],
      "metadata": {
        "id": "y_e6lM_NEwwD",
        "colab": {
          "base_uri": "https://localhost:8080/"
        },
        "outputId": "12339fad-365b-488e-e110-a57dbeef8353"
      },
      "execution_count": 12,
      "outputs": [
        {
          "output_type": "stream",
          "name": "stdout",
          "text": [
            "Difference =  25164150\n"
          ]
        }
      ]
    },
    {
      "cell_type": "markdown",
      "source": [
        "# 4. Regression Analysis\n",
        "California housing data  \n",
        "https://scikit-learn.org/stable/datasets/real_world.html#california-housing-dataset\n"
      ],
      "metadata": {
        "id": "riLtqhJEXNOQ"
      }
    },
    {
      "cell_type": "code",
      "source": [
        "import numpy as np\n",
        "import matplotlib.pyplot as plt\n",
        "import pandas as pd\n",
        "from sklearn.datasets import fetch_california_housing\n",
        "from sklearn.model_selection import train_test_split\n",
        "\n"
      ],
      "metadata": {
        "id": "5gtRmgu1kL6x"
      },
      "execution_count": 29,
      "outputs": []
    },
    {
      "cell_type": "code",
      "source": [
        "# Load the California housing data\n",
        "cal = fetch_california_housing(as_frame=True)\n",
        "X, y = cal.data, cal.target\n",
        "feature_names = X.columns\n",
        "print(feature_names)\n",
        "\n",
        "# Train/test split\n",
        "X_train, X_test, y_train, y_test = train_test_split(X, y, test_size=0.20, random_state=0)"
      ],
      "metadata": {
        "id": "YdjNvnAGkRpe",
        "colab": {
          "base_uri": "https://localhost:8080/"
        },
        "outputId": "1c44aaf9-c73c-4f0d-d213-eeb629b2c01c"
      },
      "execution_count": 14,
      "outputs": [
        {
          "output_type": "stream",
          "name": "stdout",
          "text": [
            "Index(['MedInc', 'HouseAge', 'AveRooms', 'AveBedrms', 'Population', 'AveOccup',\n",
            "       'Latitude', 'Longitude'],\n",
            "      dtype='object')\n"
          ]
        }
      ]
    },
    {
      "cell_type": "code",
      "source": [
        "# your code here\n",
        "from sklearn.linear_model import LinearRegression\n",
        "from sklearn.metrics import mean_absolute_error, mean_squared_error, r2_score\n",
        "\n",
        "# Fit model\n",
        "linreg_fit = LinearRegression().fit(X_train, y_train)\n",
        "\n",
        "# Predictions\n",
        "y_test_pred = linreg_fit.predict(X_test)\n",
        "y_train_pred = linreg_fit.predict(X_train)\n",
        "\n",
        "# Metrics\n",
        "r2 = r2_score(y_test, y_test_pred)\n",
        "print(\"r^2: \", r2)\n",
        "\n",
        "MAE = mean_absolute_error(y_test, y_pred)\n",
        "print(\"MAE: \", MAE)\n",
        "\n",
        "RMSE = mean_squared_error(y_test, y_test_pred)\n",
        "print(\"RMSE: \", MSE)\n",
        "\n",
        "# Scatterplot: predicted vs true\n",
        "plt.scatter(y_test, y_test_pred)\n",
        "plt.plot([y_test.min(), y_test.max()], [y_test.min(), y_test.max()], 'r--')\n",
        "plt.xlabel(\"True Values\")\n",
        "plt.ylabel(\"Predicted Values\")\n",
        "plt.show()"
      ],
      "metadata": {
        "id": "PEYTEFsSXMk2",
        "colab": {
          "base_uri": "https://localhost:8080/",
          "height": 501
        },
        "outputId": "dba0e263-8cce-446f-acad-4ae47b892c44"
      },
      "execution_count": 41,
      "outputs": [
        {
          "output_type": "stream",
          "name": "stdout",
          "text": [
            "r^2:  0.5943232652466202\n",
            "MAE:  0.535126133655451\n",
            "RMSE:  0.5289841670367209\n"
          ]
        },
        {
          "output_type": "display_data",
          "data": {
            "text/plain": [
              "<Figure size 640x480 with 1 Axes>"
            ],
            "image/png": "[encoded data removed]"
          },
          "metadata": {}
        }
      ]
    },
    {
      "cell_type": "markdown",
      "source": [
        "# 5. Classification Analysis\n",
        "Diagnostic Wisconsin Breast Cancer Database  \n",
        "https://scikit-learn.org/stable/datasets/toy_dataset.html#breast-cancer-dataset"
      ],
      "metadata": {
        "id": "QkSVMB7HXSZB"
      }
    },
    {
      "cell_type": "code",
      "source": [
        "import numpy as np\n",
        "import pandas as pd\n",
        "import matplotlib.pyplot as plt\n",
        "from sklearn.datasets import load_breast_cancer\n",
        "from sklearn.model_selection import train_test_split\n",
        "from sklearn.preprocessing import StandardScaler"
      ],
      "metadata": {
        "id": "vUfQhEk7zQBX"
      },
      "execution_count": null,
      "outputs": []
    },
    {
      "cell_type": "code",
      "source": [
        "# Load Breast Cancer Wisconsin Dataset\n",
        "data = load_breast_cancer(as_frame=True)\n",
        "X = data.data\n",
        "y = data.target                  # 0 = malignant, 1 = benign\n",
        "feature_names = X.columns\n",
        "label_names = {0: \"malignant\", 1: \"benign\"}\n",
        "print(feature_names)\n",
        "\n",
        "# Train/Test Split (stratified to preserve class balance)\n",
        "X_train, X_test, y_train, y_test = train_test_split(X, y, test_size=0.20, random_state=0, stratify=y)\n",
        "\n",
        "# Preprocess Data (fit on train ONLY; then transform both)\n",
        "scaler = StandardScaler(with_mean=True, with_std=True)\n",
        "X_train_std = scaler.fit_transform(X_train)   # fit on train\n",
        "X_test_std  = scaler.transform(X_test)        # transform test with train stats"
      ],
      "metadata": {
        "colab": {
          "base_uri": "https://localhost:8080/"
        },
        "id": "IGeihULRzZxD",
        "outputId": "b7cff0d4-9149-4208-c92c-6fedb809d25b"
      },
      "execution_count": null,
      "outputs": [
        {
          "output_type": "stream",
          "name": "stdout",
          "text": [
            "Index(['mean radius', 'mean texture', 'mean perimeter', 'mean area',\n",
            "       'mean smoothness', 'mean compactness', 'mean concavity',\n",
            "       'mean concave points', 'mean symmetry', 'mean fractal dimension',\n",
            "       'radius error', 'texture error', 'perimeter error', 'area error',\n",
            "       'smoothness error', 'compactness error', 'concavity error',\n",
            "       'concave points error', 'symmetry error', 'fractal dimension error',\n",
            "       'worst radius', 'worst texture', 'worst perimeter', 'worst area',\n",
            "       'worst smoothness', 'worst compactness', 'worst concavity',\n",
            "       'worst concave points', 'worst symmetry', 'worst fractal dimension'],\n",
            "      dtype='object')\n"
          ]
        }
      ]
    },
    {
      "cell_type": "code",
      "source": [
        "# your code here"
      ],
      "metadata": {
        "id": "QUYeDq2ZXY2x"
      },
      "execution_count": null,
      "outputs": []
    }
  ]
}